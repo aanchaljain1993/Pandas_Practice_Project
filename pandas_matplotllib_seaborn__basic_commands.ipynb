{
  "nbformat": 4,
  "nbformat_minor": 0,
  "metadata": {
    "colab": {
      "provenance": [],
      "mount_file_id": "1LU0NkgepE1E0rYjinrH4NvTVi1PGn5pb",
      "authorship_tag": "ABX9TyMU5So8QZwUHcWWqqq3QgkH",
      "include_colab_link": true
    },
    "kernelspec": {
      "name": "python3",
      "display_name": "Python 3"
    },
    "language_info": {
      "name": "python"
    }
  },
  "cells": [
    {
      "cell_type": "markdown",
      "metadata": {
        "id": "view-in-github",
        "colab_type": "text"
      },
      "source": [
        "<a href=\"https://colab.research.google.com/github/aanchaljain1993/Pandas_Practice_Project/blob/main/pandas_matplotllib_seaborn__basic_commands.ipynb\" target=\"_parent\"><img src=\"https://colab.research.google.com/assets/colab-badge.svg\" alt=\"Open In Colab\"/></a>"
      ]
    },
    {
      "cell_type": "code",
      "source": [
        "import matplotlib.pyplot as plt\n",
        "import numpy as np\n",
        "import pandas as pd\n",
        "import seaborn as sns"
      ],
      "metadata": {
        "id": "zeQhil54IQG0"
      },
      "execution_count": null,
      "outputs": []
    },
    {
      "cell_type": "code",
      "source": [
        "df1=pd.read_csv('/content/drive/MyDrive/ipl-matches.csv')\n",
        "df2=pd.read_csv('/content/drive/MyDrive/movies.csv')\n",
        "df = pd.concat([df1, df2], axis=1)\n",
        "df"
      ],
      "metadata": {
        "id": "HwKFF6i8L4ZC"
      },
      "execution_count": null,
      "outputs": []
    },
    {
      "cell_type": "code",
      "source": [
        "df.shape\n",
        "df.shape[0]"
      ],
      "metadata": {
        "id": "FOn4v00lMMaq"
      },
      "execution_count": null,
      "outputs": []
    },
    {
      "cell_type": "code",
      "source": [
        "df.info()"
      ],
      "metadata": {
        "id": "sat9kmB3MQQR"
      },
      "execution_count": null,
      "outputs": []
    },
    {
      "cell_type": "code",
      "source": [
        "df.columns"
      ],
      "metadata": {
        "id": "oCa96ysBMREV"
      },
      "execution_count": null,
      "outputs": []
    },
    {
      "cell_type": "code",
      "source": [
        "df.dtypes"
      ],
      "metadata": {
        "id": "3Ff1V_umMWjc"
      },
      "execution_count": null,
      "outputs": []
    },
    {
      "cell_type": "code",
      "source": [
        "cat_col=df.select_dtypes(include=object).columns"
      ],
      "metadata": {
        "id": "zhWyX2utku_J"
      },
      "execution_count": null,
      "outputs": []
    },
    {
      "cell_type": "code",
      "source": [
        "df.head()\n",
        "df.tail()\n",
        "df.sample()"
      ],
      "metadata": {
        "id": "--KJbH4gMYA_"
      },
      "execution_count": null,
      "outputs": []
    },
    {
      "cell_type": "code",
      "source": [
        "df.describe()\n",
        "df.describe(include=object)\n",
        "df.describe(include='all')\n",
        "df.describe(['Team1','Team2'])"
      ],
      "metadata": {
        "id": "_BiWbEI8Ml8A"
      },
      "execution_count": null,
      "outputs": []
    },
    {
      "cell_type": "code",
      "source": [
        "df.nunique()"
      ],
      "metadata": {
        "id": "tOvTOI1GMpf5"
      },
      "execution_count": null,
      "outputs": []
    },
    {
      "cell_type": "code",
      "source": [
        "df['ID'].nunique()"
      ],
      "metadata": {
        "id": "4_KHXnu8NLUk"
      },
      "execution_count": null,
      "outputs": []
    },
    {
      "cell_type": "code",
      "source": [
        "df['Player_of_Match'].unique()"
      ],
      "metadata": {
        "id": "7rvXyIA1NOkW"
      },
      "execution_count": null,
      "outputs": []
    },
    {
      "cell_type": "code",
      "source": [
        "df.isnull().sum()\n",
        "df.duplicated().sum()"
      ],
      "metadata": {
        "id": "XNifuve6NQp_"
      },
      "execution_count": null,
      "outputs": []
    },
    {
      "cell_type": "code",
      "source": [
        "df['hero']=df['hero'].astype('int64')\n",
        "df['hero']=df['hero'].astype('float64')\n",
        "df['hero']=df['hero'].astype('category')\n",
        "df['Date']=pd.to_datetime(df['Date'])"
      ],
      "metadata": {
        "id": "uVWyRa-nQQ2E"
      },
      "execution_count": null,
      "outputs": []
    },
    {
      "cell_type": "code",
      "source": [
        "df.rename(columns={\"ID\":\"id\"},inplace=True)\n",
        "df['City']=df['City'].replace(\"Kolkata\",\"Calcutta\")"
      ],
      "metadata": {
        "id": "SI7XNaMZNrJX"
      },
      "execution_count": null,
      "outputs": []
    },
    {
      "cell_type": "code",
      "source": [
        "df.dropna(inplace=True,axis=1)\n",
        "\n",
        "df.drop(['New','PendingS'], axis=1, inplace=True)\n",
        "\n",
        "df.drop_duplicates(inplace=True)"
      ],
      "metadata": {
        "id": "2ZXS1dSPNisJ"
      },
      "execution_count": null,
      "outputs": []
    },
    {
      "cell_type": "code",
      "source": [
        "df['id']\n",
        "df[['City','Team2']]\n",
        "\n",
        "df.iloc[0]\n",
        "df.iloc[3:6]\n",
        "df.iloc[3:9:3]\n",
        "df.iloc[[7,9,15]]\n",
        "\n",
        "df.iloc[2:5,6:9]\n",
        "df.loc[3:9,\"ttile\":\"imposter\"]"
      ],
      "metadata": {
        "id": "Vm9myAGBO0R7"
      },
      "execution_count": null,
      "outputs": []
    },
    {
      "cell_type": "code",
      "source": [
        "df['new_col']=\"India\"\n",
        "df['hero']=df['hero'].str.split(\"|\").apply(lambda x:x[0])\n",
        "df[df['genres'].str.split('|').apply(lambda x :\"Action\" in x)]\n",
        "df['MPG_City']=df['MPG_City'].apply(lambda x : x+3)\n"
      ],
      "metadata": {
        "id": "lfB-nDKRPoUO"
      },
      "execution_count": null,
      "outputs": []
    },
    {
      "cell_type": "code",
      "source": [
        "# what are count of toss decision ?\n",
        "df['TossDecision'].value_counts()\n",
        "\n",
        "# how many matches each team played?\n",
        "df['Team1'].value_counts()+df['Team2'].value_counts()\n",
        "df[~df['MatchNumber'].str.isdigit()]['Team1'].value_counts()\n",
        "trtplnt_df['Capacity'].str.split(\" \").str.get(0).astype(int)"
      ],
      "metadata": {
        "id": "ZkDpAP6Fe1CW"
      },
      "execution_count": null,
      "outputs": []
    },
    {
      "cell_type": "code",
      "source": [
        "df.sort_values('City' ,ascending=False)\n",
        "df.sort_values('num_subscribers',ascending=True).head(1).reset_index()\n",
        "\n",
        "df.sort_values(['City','MatchNumber'],ascending=[True,False])\n",
        "df.sort_values(by=['Region', 'Confirmed', 'Deaths'], ascending=[True, True, False])\n",
        "\n",
        "df['TossDecision'].value_counts().sort_values(ascending=False)\n",
        "df['subject'].value_counts().sort_values(ascending=False).head(1).reset_index()\n"
      ],
      "metadata": {
        "id": "xlaIrllxfMmm"
      },
      "execution_count": null,
      "outputs": []
    },
    {
      "cell_type": "code",
      "source": [
        "df[df['Confirmed']<10]\n",
        "df[df['Weather conditions']=='Snow']\n",
        "df[df['Weather conditions']=='Snow'].shape[0]"
      ],
      "metadata": {
        "id": "ySkl2fCgRHae"
      },
      "execution_count": null,
      "outputs": []
    },
    {
      "cell_type": "code",
      "source": [
        "df[df['TossWinner']==df['WinningTeam']]\n",
        "df[df['MatchNumber']=='Final'][['Season','WinningTeam']]\n",
        "\n",
        "df[df['year']==2015]['subject'].value_counts()\n",
        "df[df['State_name']=='MAHARASHTRA']['Male'].sum()\n",
        "df[df['Region']=='Canada'][['Confirmed','Deaths','Recovered']].sum()\n"
      ],
      "metadata": {
        "id": "jUL-uYxMSBdc"
      },
      "execution_count": null,
      "outputs": []
    },
    {
      "cell_type": "code",
      "source": [
        "df[(df['City']=='Calcutta')& (df['WinningTeam']=='Rajasthan Royals')]\n",
        "df[(df['Weather conditions']=='Clear') | (df['Visibility_km']==40)]\n",
        "df[((df['Weather conditions']=='Clear') & (df['Rel Hum_%']>40)) | (df['Visibility_km']>40)]\n"
      ],
      "metadata": {
        "id": "C1qYhKYbRqdn"
      },
      "execution_count": null,
      "outputs": []
    },
    {
      "cell_type": "code",
      "source": [
        "df[df['Origin'].isin(['Asia','Europe'])]\n",
        "df[df['District_name'].isin(['New Delhi','Lucknow','Jaipur'])]\n"
      ],
      "metadata": {
        "id": "RTRBRuETgs2g"
      },
      "execution_count": null,
      "outputs": []
    },
    {
      "cell_type": "code",
      "source": [
        "df['year']=df['published_timestamp'].dt.year\n",
        "df['year']=df['published_timestamp'].dt.month\n",
        "df['year']=df['published_timestamp'].dt.day\n",
        "df['year']=df['published_timestamp'].dt.day_name()\n"
      ],
      "metadata": {
        "id": "M7m1kBtGm8tV"
      },
      "execution_count": 1,
      "outputs": []
    },
    {
      "cell_type": "code",
      "source": [
        "# movies.groupby('Genre')['Gross'].sum()\n",
        "# movies.groupby('Genre')['IMDB_Rating'].max()\n",
        "# movies.groupby('Genre')['Gross'].sum().sort_values(ascending=False).head(3)\n",
        "# df.groupby(['Age Group'], as_index=False)['Amount'].sum().sort_values(by='Amount', ascending=False)\n",
        "# df.groupby(['Marital_Status', 'Gender'], as_index=False)['Amount'].sum().sort_values(by='Amount', ascending=False)\n",
        "# df.groupby('Product_ID')['Orders'].sum().nlargest(10).sort_values(ascending=False)\n"
      ],
      "metadata": {
        "id": "ox3nKNf7qxFg"
      },
      "execution_count": null,
      "outputs": []
    },
    {
      "cell_type": "code",
      "source": [
        "df.groupby('Age Group').agg(['min','max','mean','sum'])\n",
        "df.groupby('Age Group').agg( {'Runtime':'mean','IMDB_Rating':'mean','No_of_Votes':'sum', 'Gross':'sum', 'Metascore':'min'})\n",
        "df.groupby('Age Group').agg( {'Runtime':['mean','min'],'IMDB_Rating':'mean','No_of_Votes':['sum','max'], 'Gross':'sum', 'Metascore':'min'})\n"
      ],
      "metadata": {
        "id": "fN2hp_0ntYb5"
      },
      "execution_count": null,
      "outputs": []
    },
    {
      "cell_type": "code",
      "source": [
        "wstwtr_source_df= pd.merge(wstwtrtrt_df,source_df,on='SourceID',how='left')"
      ],
      "metadata": {
        "id": "tz28F143M9RS"
      },
      "execution_count": null,
      "outputs": []
    },
    {
      "cell_type": "markdown",
      "source": [],
      "metadata": {
        "id": "3aX05CicsD04"
      }
    },
    {
      "cell_type": "markdown",
      "source": [],
      "metadata": {
        "id": "STSJ33kAsDuT"
      }
    }
  ]
}